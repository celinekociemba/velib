{
 "cells": [
  {
   "cell_type": "code",
   "execution_count": 1,
   "metadata": {
    "collapsed": false
   },
   "outputs": [
    {
     "name": "stdout",
     "output_type": "stream",
     "text": [
      "ready\n"
     ]
    }
   ],
   "source": [
    "println(\"ready\")"
   ]
  },
  {
   "cell_type": "markdown",
   "metadata": {},
   "source": [
    "# -2) imports"
   ]
  },
  {
   "cell_type": "code",
   "execution_count": 2,
   "metadata": {
    "collapsed": true
   },
   "outputs": [],
   "source": [
    "import org.apache.spark.SparkContext\n",
    "import org.apache.spark.SparkContext\n",
    "import org.apache.spark.SparkConf\n",
    "import org.apache.spark.sql.Row;\n",
    "import org.apache.spark.sql.types.{StructType, StructField, StringType};"
   ]
  },
  {
   "cell_type": "markdown",
   "metadata": {},
   "source": [
    "# -1) refaire un spark context personnalisé"
   ]
  },
  {
   "cell_type": "code",
   "execution_count": 23,
   "metadata": {
    "collapsed": true
   },
   "outputs": [],
   "source": [
    "import org.apache.spark.sql.SparkSession\n",
    "val spark = SparkSession.builder().getOrCreate()"
   ]
  },
  {
   "cell_type": "code",
   "execution_count": 24,
   "metadata": {
    "collapsed": false
   },
   "outputs": [],
   "source": [
    "import org.apache.spark.sql.Row\n",
    "import org.apache.spark.sql.types._\n",
    "import spark.implicits._"
   ]
  },
  {
   "cell_type": "code",
   "execution_count": 3,
   "metadata": {
    "collapsed": false
   },
   "outputs": [
    {
     "data": {
      "text/plain": [
       "org.apache.spark.SparkConf@63e18d18"
      ]
     },
     "execution_count": 3,
     "metadata": {},
     "output_type": "execute_result"
    }
   ],
   "source": [
    "val appName = \"rennes\"\n",
    "val master  = \"local[3]\"\n",
    "val conf    = new SparkConf()\n",
    "conf.setAppName(appName)\n",
    "conf.setMaster(master)\n"
   ]
  },
  {
   "cell_type": "markdown",
   "metadata": {},
   "source": [
    "# Créer un sqlcontext"
   ]
  },
  {
   "cell_type": "code",
   "execution_count": 26,
   "metadata": {
    "collapsed": true
   },
   "outputs": [],
   "source": [
    "val sqlContext = new org.apache.spark.sql.SQLContext(sc)"
   ]
  },
  {
   "cell_type": "markdown",
   "metadata": {},
   "source": [
    "# Possibilité 1 : appliquer un schéma à postériori"
   ]
  },
  {
   "cell_type": "markdown",
   "metadata": {},
   "source": [
    "### Cyclistes"
   ]
  },
  {
   "cell_type": "code",
   "execution_count": 106,
   "metadata": {
    "collapsed": false
   },
   "outputs": [
    {
     "name": "stdout",
     "output_type": "stream",
     "text": [
      "300\n"
     ]
    }
   ],
   "source": [
    "var cyclistes = sc.textFile(\"./logs/cycliste_cyclistes.csv\")\n",
    "// on retire le header\n",
    "val header = cyclistes.first() \n",
    "cyclistes = cyclistes.filter(row => row != header) \n",
    "// on filtre sur les lignes pleines\n",
    "cyclistes = cyclistes.filter(!_.isEmpty() )\n",
    "System.out.println(cyclistes.count)\n",
    "\n",
    "// on crée le schéma\n",
    "var champs = List(  StructField(\"cycliste\"     , StringType, true),\n",
    "                    StructField(\"sportif\"      , FloatType, true),\n",
    "                    StructField(\"age\"          , IntegerType, true),\n",
    "                    StructField(\"genre\"        , StringType, true),\n",
    "                    StructField(\"nb_km_moyen\"  , FloatType, true),\n",
    "                    StructField(\"vitesse\"      , FloatType, true),\n",
    "                    StructField(\"attente\"      , FloatType, true))\n",
    "                    \n",
    "var schema = StructType(champs)\n",
    "// on cast les données dans le  même type que le schéma \n",
    "val rowRDD = cyclistes.map(_.split(\",\")).map(champs => Row(   champs(0), \n",
    "                                            champs(1).toFloat, \n",
    "                                            champs(2).toInt,\n",
    "                                            champs(3),\n",
    "                                            champs(4).toFloat,\n",
    "                                            champs(5).toFloat,\n",
    "                                            champs(5).toFloat))\n",
    "// on crée une dataframe en appliquant le schéma sur les données castées\n",
    "val df_cycliste = sqlContext.createDataFrame(rowRDD, schema)                                            "
   ]
  },
  {
   "cell_type": "code",
   "execution_count": 167,
   "metadata": {
    "collapsed": false
   },
   "outputs": [
    {
     "data": {
      "text/plain": [
       "Array([cycliste_azeuj,2.0,49,femme,14.564755,15.843843,15.843843])"
      ]
     },
     "execution_count": 167,
     "metadata": {},
     "output_type": "execute_result"
    }
   ],
   "source": [
    "df_cycliste.take(1)"
   ]
  },
  {
   "cell_type": "markdown",
   "metadata": {},
   "source": [
    "### trajets"
   ]
  },
  {
   "cell_type": "code",
   "execution_count": 168,
   "metadata": {
    "collapsed": true
   },
   "outputs": [],
   "source": [
    "import java.sql.Timestamp"
   ]
  },
  {
   "cell_type": "code",
   "execution_count": 169,
   "metadata": {
    "collapsed": false
   },
   "outputs": [
    {
     "name": "stdout",
     "output_type": "stream",
     "text": [
      "3445\n"
     ]
    },
    {
     "data": {
      "text/plain": [
       "Array(azjm1,cycliste_azeuj,velo_aetxc_1486044559.12,1486044561.54,1486044562.38,0.841557025909,1.0,arpn2)"
      ]
     },
     "execution_count": 169,
     "metadata": {},
     "output_type": "execute_result"
    }
   ],
   "source": [
    "var trajets = sc.textFile(\"./logs/trajets.csv\")\n",
    "val header = trajets.first() \n",
    "trajets    = trajets.filter(row => row != header) \n",
    "trajets    = trajets.filter(!_.isEmpty() )\n",
    "System.out.println(trajets.count)\n",
    "trajets.take(1)"
   ]
  },
  {
   "cell_type": "code",
   "execution_count": 170,
   "metadata": {
    "collapsed": false
   },
   "outputs": [],
   "source": [
    "var champs = List(  StructField(\"station\"     , StringType, true),\n",
    "                    StructField(\"cycliste\"      , StringType, true),\n",
    "                    StructField(\"velo\"          , StringType, true),\n",
    "                    StructField(\"h_depart\"        , TimestampType, true),\n",
    "                    StructField(\"h_darrivee\"        , TimestampType, true),\n",
    "                    StructField(\"duree\"         , FloatType, true),\n",
    "                    StructField(\"distance\"      , FloatType, true),\n",
    "                    StructField(\"arrivee\"      , StringType, true))\n",
    "                    \n",
    "var schema = StructType(champs)\n",
    "\n",
    "val rowRDD = trajets.map(_.split(\",\")).map(champs => Row(   champs(0), \n",
    "                                            champs(1), \n",
    "                                            champs(2),\n",
    "                                            new Timestamp(champs(3).substring(0,10).toLong*1000),\n",
    "                                            new Timestamp(champs(4).substring(0,10).toLong*1000),\n",
    "                                            champs(5).toFloat,\n",
    "                                            champs(6).toFloat,\n",
    "                                            champs(7)))\n",
    "val df_trajets = sqlContext.createDataFrame(rowRDD, schema)                                            "
   ]
  },
  {
   "cell_type": "code",
   "execution_count": 171,
   "metadata": {
    "collapsed": false
   },
   "outputs": [
    {
     "data": {
      "text/plain": [
       "Array([azjm1,cycliste_azeuj,velo_aetxc_1486044559.12,2017-02-02 14:09:21.0,2017-02-02 14:09:22.0,0.841557,1.0,arpn2])"
      ]
     },
     "execution_count": 171,
     "metadata": {},
     "output_type": "execute_result"
    }
   ],
   "source": [
    "df_trajets.take(1)"
   ]
  },
  {
   "cell_type": "markdown",
   "metadata": {},
   "source": [
    "# Possibilité 2 : inférer le schéma\n",
    "=> plus lent car le fichier est lu deux fois"
   ]
  },
  {
   "cell_type": "markdown",
   "metadata": {},
   "source": [
    "# options de lecture du csv"
   ]
  },
  {
   "cell_type": "code",
   "execution_count": 173,
   "metadata": {
    "collapsed": true
   },
   "outputs": [],
   "source": [
    "val options  = Map(  \"header\"                    -> \"true\"     ,\n",
    "                     \"ignoreLeadingWhiteSpace\"   -> \"true\"     ,\n",
    "                     \"ignoreTrailingWhiteSpace\"  -> \"true\"     ,\n",
    "                     \"inferSchema\"               -> \"true\"     ,\n",
    "                     \"mode\"                      -> \"FAILFAST\" )"
   ]
  },
  {
   "cell_type": "markdown",
   "metadata": {},
   "source": [
    "### Cyclistes"
   ]
  },
  {
   "cell_type": "code",
   "execution_count": 177,
   "metadata": {
    "collapsed": false
   },
   "outputs": [
    {
     "name": "stdout",
     "output_type": "stream",
     "text": [
      "+--------------+-------+---+-----+-------------+-------------+-------+\n",
      "|      cycliste|sportif|age| sexe|        nb_km|      vitesse|attente|\n",
      "+--------------+-------+---+-----+-------------+-------------+-------+\n",
      "|cycliste_azeuj|    2.0| 49|femme| 14.564755189|15.8438435745|    0.5|\n",
      "|cycliste_azex4|    2.0| 66|femme|7.68289414372|14.0118693694|    0.5|\n",
      "+--------------+-------+---+-----+-------------+-------------+-------+\n",
      "only showing top 2 rows\n",
      "\n"
     ]
    },
    {
     "data": {
      "text/plain": [
       "StructType(StructField(cycliste,StringType,true), StructField(sportif,DoubleType,true), StructField(age,IntegerType,true), StructField(sexe,StringType,true), StructField(nb_km,DoubleType,true), StructField(vitesse,DoubleType,true), StructField(attente,DoubleType,true))"
      ]
     },
     "execution_count": 177,
     "metadata": {},
     "output_type": "execute_result"
    }
   ],
   "source": [
    "val path     = \"./logs/cycliste_cyclistes.csv\"\n",
    "val cyclistes = spark.read.options(options).csv(path)\n",
    "cyclistes.show(2)\n",
    "cyclistes.schema"
   ]
  },
  {
   "cell_type": "markdown",
   "metadata": {},
   "source": [
    "### Trajets"
   ]
  },
  {
   "cell_type": "code",
   "execution_count": 179,
   "metadata": {
    "collapsed": true
   },
   "outputs": [],
   "source": [
    "val path    = \"./logs/trajets.csv\"\n",
    "val trajets = spark.read.options(options).csv(path)"
   ]
  },
  {
   "cell_type": "code",
   "execution_count": 180,
   "metadata": {
    "collapsed": false
   },
   "outputs": [
    {
     "name": "stdout",
     "output_type": "stream",
     "text": [
      "+--------------+--------------+--------------------+---------------+---------------+--------------+--------+---------------+\n",
      "|station_depart|      cycliste|                velo|heure_de_depart|   heure_de_fin|         duree|distance|station_arrivee|\n",
      "+--------------+--------------+--------------------+---------------+---------------+--------------+--------+---------------+\n",
      "|         azjm1|cycliste_azeuj|velo_aetxc_148604...|1.48604456154E9|1.48604456238E9|0.841557025909|     1.0|          arpn2|\n",
      "|         arikc|cycliste_azex4|velo_azjv1_148604...|1.48604456155E9|1.48604456262E9| 1.07023191452|     1.0|          arfm2|\n",
      "+--------------+--------------+--------------------+---------------+---------------+--------------+--------+---------------+\n",
      "only showing top 2 rows\n",
      "\n"
     ]
    },
    {
     "data": {
      "text/plain": [
       "StructType(StructField(station_depart,StringType,true), StructField(cycliste,StringType,true), StructField(velo,StringType,true), StructField(heure_de_depart,DoubleType,true), StructField(heure_de_fin,DoubleType,true), StructField(duree,DoubleType,true), StructField(distance,DoubleType,true), StructField(station_arrivee,StringType,true))"
      ]
     },
     "execution_count": 180,
     "metadata": {},
     "output_type": "execute_result"
    }
   ],
   "source": [
    "trajets.show(2)\n",
    "trajets.schema"
   ]
  },
  {
   "cell_type": "markdown",
   "metadata": {},
   "source": [
    "### Créer des time stamps"
   ]
  },
  {
   "cell_type": "code",
   "execution_count": 207,
   "metadata": {
    "collapsed": false
   },
   "outputs": [
    {
     "name": "stdout",
     "output_type": "stream",
     "text": [
      "+----------------------+----------------------+--------------+\n",
      "|timestamp_de_depart   |timestamp_de_fin      |duree         |\n",
      "+----------------------+----------------------+--------------+\n",
      "|2017-02-02 14:09:21.54|2017-02-02 14:09:22.38|0.841557025909|\n",
      "|2017-02-02 14:09:21.55|2017-02-02 14:09:22.62|1.07023191452 |\n",
      "|2017-02-02 14:09:21.55|2017-02-02 14:09:22.39|0.832741975784|\n",
      "|2017-02-02 14:09:21.56|2017-02-02 14:09:22.39|0.83046913147 |\n",
      "+----------------------+----------------------+--------------+\n",
      "only showing top 4 rows\n",
      "\n"
     ]
    }
   ],
   "source": [
    "// cast a column to a timestamp\n",
    "val trajets2 = trajets.withColumn (\"timestamp_de_depart\",trajets(\"heure_de_depart\").cast(\"timestamp\"))\n",
    "val trajets3 = trajets2.withColumn(\"timestamp_de_fin\"  , trajets(\"heure_de_fin\"   ).cast(\"timestamp\"))\n",
    "trajets3.select(\"timestamp_de_depart\", \"timestamp_de_fin\", \"duree\").show(4, false)\n"
   ]
  },
  {
   "cell_type": "markdown",
   "metadata": {},
   "source": [
    "### Velos"
   ]
  },
  {
   "cell_type": "code",
   "execution_count": 217,
   "metadata": {
    "collapsed": false
   },
   "outputs": [],
   "source": [
    "val path    = \"./logs/velos_etats.csv\"\n",
    "val velos = spark.read.options(options).csv(path).withColumn(\"timestamp\",'time.cast(\"timestamp\")).drop('time)"
   ]
  },
  {
   "cell_type": "code",
   "execution_count": 218,
   "metadata": {
    "collapsed": false
   },
   "outputs": [
    {
     "name": "stdout",
     "output_type": "stream",
     "text": [
      "+------------------------+---------+-----------+-----------+-------------+----------------------+\n",
      "|velo                    |n_message|station.nom|performance|nb_km_trajet |timestamp             |\n",
      "+------------------------+---------+-----------+-----------+-------------+----------------------+\n",
      "|velo_ari89_1486044398.55|16       |azigw      |1.0        |2.02238733734|2017-02-02 14:07:09.2 |\n",
      "|velo_ari89_1486044398.55|14       |aztg7      |1.0        |14.4703218746|2017-02-02 14:07:08.16|\n",
      "+------------------------+---------+-----------+-----------+-------------+----------------------+\n",
      "only showing top 2 rows\n",
      "\n"
     ]
    }
   ],
   "source": [
    "velos.show(2, false)"
   ]
  },
  {
   "cell_type": "code",
   "execution_count": 227,
   "metadata": {
    "collapsed": false
   },
   "outputs": [
    {
     "data": {
      "text/plain": [
       "Name: Unknown Error\n",
       "Message: <console>:51: error: value last is not a member of org.apache.spark.sql.DataFrame\n",
       "       velos.last()\n",
       "             ^\n",
       "StackTrace: "
      ]
     },
     "execution_count": 227,
     "metadata": {},
     "output_type": "execute_result"
    }
   ],
   "source": [
    "velos."
   ]
  },
  {
   "cell_type": "code",
   "execution_count": 225,
   "metadata": {
    "collapsed": false
   },
   "outputs": [
    {
     "name": "stdout",
     "output_type": "stream",
     "text": [
      "+------------------------+---------+-----------+-----------+-------------+----------------------+\n",
      "|velo                    |n_message|station.nom|performance|nb_km_trajet |timestamp             |\n",
      "+------------------------+---------+-----------+-----------+-------------+----------------------+\n",
      "|velo_ari89_1486044398.55|14       |aztg7      |1.0        |14.4703218746|2017-02-02 14:07:08.16|\n",
      "|velo_ari89_1486044398.55|16       |azigw      |1.0        |2.02238733734|2017-02-02 14:07:09.2 |\n",
      "+------------------------+---------+-----------+-----------+-------------+----------------------+\n",
      "\n"
     ]
    }
   ],
   "source": [
    "velos.filter('velo === \"velo_ari89_1486044398.55\").sort('n_message asc).show(false)"
   ]
  },
  {
   "cell_type": "code",
   "execution_count": null,
   "metadata": {
    "collapsed": true
   },
   "outputs": [],
   "source": [
    "\n",
    "\n",
    "val veloDF = sqlContext.createDataFrame(rowRDD, schema)\n",
    "\n",
    "veloDF.registerTempTable(\"velos\")"
   ]
  },
  {
   "cell_type": "code",
   "execution_count": 36,
   "metadata": {
    "collapsed": false
   },
   "outputs": [],
   "source": [
    "var champs = List(  StructField(\"nom\"          , StringType, true),\n",
    "                    StructField(\"time\"         , StringType, true),\n",
    "                    StructField(\"station\"      , StringType, true),\n",
    "                    StructField(\"performance\"  , StringType, true),\n",
    "                    StructField(\"nb_km_trajet\" , StringType, true))\n",
    "var schema = StructType(champs)\n",
    "\n",
    "val rowRDD = velos.map(_.split(\",\")).map(champs => Row(champs(0), champs(1), champs(2),champs(3),champs(4)))\n",
    "\n",
    "val veloDF = sqlContext.createDataFrame(rowRDD, schema)\n",
    "\n",
    "veloDF.registerTempTable(\"velos\")"
   ]
  },
  {
   "cell_type": "markdown",
   "metadata": {
    "collapsed": true
   },
   "source": [
    "# 3) reading csv"
   ]
  },
  {
   "cell_type": "code",
   "execution_count": 29,
   "metadata": {
    "collapsed": false
   },
   "outputs": [],
   "source": [
    "// 1) création de la structure\n",
    "var champs         = List(  StructField(\"nom\"    , StringType, true) ,\n",
    "                            StructField(\"heure\"  , StringType, true) ,\n",
    "                            StructField(\"velo\"   , StringType, true) ,\n",
    "                            StructField(\"action\" , StringType, true) )\n",
    "var schema         = StructType(champs)\n",
    "\n",
    "// 2) lecture des données\n",
    "val path           = \"./logs_backup/cycliste_prises.csv\"\n",
    "val DataSet_prise  = sqlContext.read.schema(schema).csv(path)\n",
    "\n",
    "// 3) nommage de la table\n",
    "val table_prises   = \"prises\"\n",
    "DataSet_prise.registerTempTable(table_prises)\n"
   ]
  },
  {
   "cell_type": "code",
   "execution_count": 30,
   "metadata": {
    "collapsed": false
   },
   "outputs": [],
   "source": [
    "var champs = List(  StructField(\"cyclise\"  , StringType, true),\n",
    "                    StructField(\"heure\"    , StringType, true),\n",
    "                    StructField(\"rendu\"    , StringType, true),\n",
    "                    StructField(\"duree\"    , StringType, true),\n",
    "                    StructField(\"velo\"     , StringType, true))\n",
    "var r_schema = StructType(champs)\n",
    "val DataSet_rendu = sqlContext.read.schema(r_schema).csv(\"./logs_backup/cycliste_rendu.csv\")\n",
    "val table_rendu = \"rendus\"\n",
    "DataSet_rendu.registerTempTable(table_rendu)"
   ]
  },
  {
   "cell_type": "code",
   "execution_count": 31,
   "metadata": {
    "collapsed": false
   },
   "outputs": [
    {
     "name": "stdout",
     "output_type": "stream",
     "text": [
      "+--------------+-------------+-------------+-------------+-------------+-------------+----------+\n",
      "|           nom|        heure|        heure|        rendu|        duree|        heure|      velo|\n",
      "+--------------+-------------+-------------+-------------+-------------+-------------+----------+\n",
      "|cycliste_aze10|1485439668.61|1485439670.98|1485439671.12|5.54097819705|1485439668.61|velo_artu3|\n",
      "|cycliste_aze10|1485439719.74|1485439697.71|1485439697.95|5.65514540188|1485439719.74|velo_azk10|\n",
      "|cycliste_aze10|1485439719.74|1485440167.85|1485440168.35|7.70852595438|1485439719.74|velo_azk10|\n",
      "|cycliste_aze10|1485439757.55|1485440363.17|1485440363.83|10.7317745762|1485439757.55|velo_azru2|\n",
      "|cycliste_aze10|1485439783.18| 1485439785.9|1485439786.53| 10.572863395|1485439783.18|velo_aryv3|\n",
      "|cycliste_aze10|1485439783.18|1485440065.62|1485440066.32|4.89870374148|1485439783.18|velo_aryv3|\n",
      "|cycliste_aze10|1485439821.97|1485439706.32|1485439706.32|            0|1485439821.97|velo_azrjc|\n",
      "|cycliste_aze10|1485439834.83|1485439827.86|1485439828.29|4.64467495337|1485439834.83|velo_aryv7|\n",
      "|cycliste_aze10|1485439834.83|1485439830.88|1485439831.04|1.75312470608|1485439834.83|velo_aryv7|\n",
      "|cycliste_aze10|1485439847.64|1485440047.88|1485440048.92| 13.375818016|1485439847.64|velo_az235|\n",
      "|cycliste_aze10|1485439885.52|1485439719.21|1485439719.21|            0|1485439885.52|velo_aetug|\n",
      "|cycliste_aze10|1485439885.52|1485439886.88|1485439887.41|8.61078588535|1485439885.52|velo_aetug|\n",
      "|cycliste_aze10|1485439911.88|1485439968.42|1485439968.69|5.13984108637|1485439911.88|velo_aepdh|\n",
      "|cycliste_aze10|1485439911.88| 1485440483.4| 1485440483.4|            0|1485439911.88|velo_aepdh|\n",
      "|cycliste_aze10|1485439924.92| 1485439882.7| 1485439882.7|            0|1485439924.92|velo_aerp5|\n",
      "|cycliste_aze10|1485439978.26|1485440001.92| 1485440003.3|11.5721240605|1485439978.26|velo_arqx5|\n",
      "|cycliste_aze10|1485440083.15|1485440074.85| 1485440077.7|10.5598839314|1485440083.15|velo_aefb2|\n",
      "|cycliste_aze10|1485440189.57|1485440208.37|1485440209.65|14.6828150854|1485440189.57|velo_artu7|\n",
      "|cycliste_aze10|1485440282.23|1485439683.37|1485439683.76|7.02829224966|1485440282.23|velo_azrfx|\n",
      "|cycliste_aze10|1485440323.22|1485439691.61| 1485439691.8|7.04687841266|1485440323.22|velo_azdw1|\n",
      "+--------------+-------------+-------------+-------------+-------------+-------------+----------+\n",
      "only showing top 20 rows\n",
      "\n"
     ]
    }
   ],
   "source": [
    "val requete = s\"\"\"  SELECT distinct  p.nom     , \n",
    "                                     p.heure   , \n",
    "                                     r.heure   ,\n",
    "                                     r.rendu   ,\n",
    "                                     r.duree   ,\n",
    "                                     p.heure   , \n",
    "                                     r.velo\n",
    "                    FROM        prises AS p \n",
    "                    INNER JOIN  rendus AS r \n",
    "                    ON          p.velo = r.velo\n",
    "\"\"\"\n",
    "sqlContext.sql(requete).show()"
   ]
  },
  {
   "cell_type": "code",
   "execution_count": null,
   "metadata": {
    "collapsed": true
   },
   "outputs": [],
   "source": []
  }
 ],
 "metadata": {
  "kernelspec": {
   "display_name": "Apache Toree - Scala",
   "language": "scala",
   "name": "apache_toree_scala"
  },
  "language_info": {
   "file_extension": ".scala",
   "name": "scala",
   "version": "2.11.8"
  }
 },
 "nbformat": 4,
 "nbformat_minor": 2
}
